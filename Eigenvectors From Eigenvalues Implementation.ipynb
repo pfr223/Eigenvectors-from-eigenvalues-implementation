{
 "cells": [
  {
   "cell_type": "markdown",
   "metadata": {},
   "source": [
    "# Eigenvectors From Eigenvalues Implementation"
   ]
  },
  {
   "cell_type": "code",
   "execution_count": 1,
   "metadata": {},
   "outputs": [],
   "source": [
    "import numpy as np\n",
    "import time\n",
    "import matplotlib.pyplot as plt"
   ]
  },
  {
   "cell_type": "code",
   "execution_count": 2,
   "metadata": {},
   "outputs": [],
   "source": [
    "#create symmetric matrix\n",
    "def create_symmetric_matrix(n):\n",
    "    A = np.random.rand(n**2).reshape(n,n)\n",
    "    A = A + A.T\n",
    "    return A"
   ]
  },
  {
   "cell_type": "code",
   "execution_count": 3,
   "metadata": {},
   "outputs": [],
   "source": [
    "A = create_symmetric_matrix(4)"
   ]
  },
  {
   "cell_type": "code",
   "execution_count": 4,
   "metadata": {},
   "outputs": [],
   "source": [
    "n = A.shape[0]"
   ]
  },
  {
   "cell_type": "code",
   "execution_count": 5,
   "metadata": {},
   "outputs": [],
   "source": [
    "eval_A, evec_A = np.linalg.eig(A)"
   ]
  },
  {
   "cell_type": "code",
   "execution_count": 6,
   "metadata": {},
   "outputs": [],
   "source": [
    "# Numpy way of calculating eigenvector\n",
    "def evec_from_numpy(A):\n",
    "    _, evec_A = np.linalg.eig(A)\n",
    "    return evec_A"
   ]
  },
  {
   "cell_type": "code",
   "execution_count": 7,
   "metadata": {},
   "outputs": [],
   "source": [
    "# New way of calculating eigenvector\n",
    "def evec_from_eval(A, eval_A):\n",
    "    n = A.shape[0]\n",
    "    evec_A = np.zeros((n, n))\n",
    "    for k in range(n):\n",
    "        M = np.delete(A, k, axis=0)\n",
    "        M = np.delete(M, k, axis=1)\n",
    "\n",
    "        eval_M = np.linalg.eigvals(M)\n",
    "\n",
    "        # nominator of v11, v21, v31, v41\n",
    "        nominator = [np.prod(eval_A[i] - eval_M) for i in range(n)]    \n",
    "        \n",
    "        # denominator of v11, v21, v31, v41        (λ0-λ0)(λ0-λ1)(λ0-λ2)(λ0-λ3)        \n",
    "        # delete value=0 entry   (λ0-λ0) \n",
    "        denominator = [np.prod(np.delete(eval_A[i] - eval_A, i)) for i in range(n)]\n",
    "        \n",
    "        evec_A[k, :] = np.array(nominator) / np.array(denominator)\n",
    "        \n",
    "    return evec_A"
   ]
  },
  {
   "cell_type": "code",
   "execution_count": 8,
   "metadata": {},
   "outputs": [],
   "source": [
    "evec_A_from_eval = np.zeros((n, n))"
   ]
  },
  {
   "cell_type": "code",
   "execution_count": 9,
   "metadata": {},
   "outputs": [],
   "source": [
    "evec_A_from_eval = evec_from_eval(A, eval_A)"
   ]
  },
  {
   "cell_type": "code",
   "execution_count": 10,
   "metadata": {},
   "outputs": [
    {
     "name": "stdout",
     "output_type": "stream",
     "text": [
      "[[0.16794718 0.51232766 0.28795809 0.03176706]\n",
      " [0.29927202 0.00221649 0.04497606 0.65353543]\n",
      " [0.2638388  0.48038636 0.22206419 0.03371065]\n",
      " [0.26894199 0.00506948 0.44500166 0.28098687]]\n"
     ]
    }
   ],
   "source": [
    "print(evec_A**2)"
   ]
  },
  {
   "cell_type": "code",
   "execution_count": 11,
   "metadata": {},
   "outputs": [
    {
     "data": {
      "text/plain": [
       "True"
      ]
     },
     "execution_count": 11,
     "metadata": {},
     "output_type": "execute_result"
    }
   ],
   "source": [
    "# check equal\n",
    "np.allclose(evec_A_from_eval, evec_A**2)"
   ]
  },
  {
   "cell_type": "code",
   "execution_count": 12,
   "metadata": {},
   "outputs": [],
   "source": [
    "# estimate exec time, calcuate 100 times for each nxn matrix\n",
    "def evaluate_execution_time_1(A):\n",
    "    [evec_from_numpy(A) for i in range(100)]\n",
    "    "
   ]
  },
  {
   "cell_type": "code",
   "execution_count": 13,
   "metadata": {},
   "outputs": [],
   "source": [
    "def evaluate_execution_time_2(A):\n",
    "     [evec_from_eval(A, eval_A) for i in range(100)]"
   ]
  },
  {
   "cell_type": "code",
   "execution_count": 14,
   "metadata": {
    "scrolled": true
   },
   "outputs": [],
   "source": [
    "time_numpy = []\n",
    "time_efe = []\n",
    "\n",
    "for i in range(50):\n",
    "    A = create_symmetric_matrix(i)\n",
    "    eval_A, evec_A = np.linalg.eig(A)\n",
    "    \n",
    "    start = time.perf_counter()\n",
    "    evaluate_execution_time_1(A)\n",
    "    end = time.perf_counter()\n",
    "    ti = (end - start)\n",
    "    time_numpy.append(ti)\n",
    "\n",
    "    start = time.perf_counter()\n",
    "    evaluate_execution_time_2(A)\n",
    "    end = time.perf_counter()\n",
    "    ti = (end - start)\n",
    "    time_efe.append(ti)\n",
    "\n",
    "arr_numpy = np.array(time_numpy)\n",
    "arr_efe = np.array(time_efe)"
   ]
  },
  {
   "cell_type": "code",
   "execution_count": 15,
   "metadata": {},
   "outputs": [
    {
     "data": {
      "image/png": "[encoded data removed]",
      "text/plain": [
       "<Figure size 432x288 with 1 Axes>"
      ]
     },
     "metadata": {
      "needs_background": "light"
     },
     "output_type": "display_data"
    }
   ],
   "source": [
    "fig, ax = plt.subplots()\n",
    "\n",
    "ax.set_xlabel(\"order n matrix\")\n",
    "ax.set_ylabel(\"estimated time(ms) log\")\n",
    "\n",
    "arr_x = [i for i in range(50)]\n",
    "ax.plot(arr_x, arr_numpy, label='numpy')\n",
    "ax.plot(arr_x, arr_efe,color='green', label='efe')\n",
    "\n",
    "ax.legend()\n",
    "plt.yscale(\"log\")"
   ]
  }
 ],
 "metadata": {
  "kernelspec": {
   "display_name": "Python 3",
   "language": "python",
   "name": "python3"
  },
  "language_info": {
   "codemirror_mode": {
    "name": "ipython",
    "version": 3
   },
   "file_extension": ".py",
   "mimetype": "text/x-python",
   "name": "python",
   "nbconvert_exporter": "python",
   "pygments_lexer": "ipython3",
   "version": "3.8.5"
  }
 },
 "nbformat": 4,
 "nbformat_minor": 4
}
